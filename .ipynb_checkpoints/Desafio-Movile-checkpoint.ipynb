{
 "cells": [
  {
   "cell_type": "markdown",
   "metadata": {},
   "source": [
    "# Desafio Movile\n",
    "\n",
    "Neste desafio, estudamos o problema de classificação de spams em mensagens de SMS. \n",
    "\n",
    "Foram fornecidas pela Wavy amostras de mensagens de diferentes operadoras."
   ]
  },
  {
   "cell_type": "code",
   "execution_count": 4,
   "metadata": {},
   "outputs": [],
   "source": [
    "import numpy as np\n",
    "import pandas as pd\n",
    "from sklearn.model_selection import train_test_split"
   ]
  },
  {
   "cell_type": "code",
   "execution_count": 2,
   "metadata": {},
   "outputs": [],
   "source": [
    "dataset = pd.read_csv('SPAM Data _ Akari - SPAM Data.csv')"
   ]
  },
  {
   "cell_type": "code",
   "execution_count": 6,
   "metadata": {},
   "outputs": [
    {
     "name": "stdout",
     "output_type": "stream",
     "text": [
      "997\n"
     ]
    },
    {
     "data": {
      "text/html": [
       "<div>\n",
       "<style scoped>\n",
       "    .dataframe tbody tr th:only-of-type {\n",
       "        vertical-align: middle;\n",
       "    }\n",
       "\n",
       "    .dataframe tbody tr th {\n",
       "        vertical-align: top;\n",
       "    }\n",
       "\n",
       "    .dataframe thead th {\n",
       "        text-align: right;\n",
       "    }\n",
       "</style>\n",
       "<table border=\"1\" class=\"dataframe\">\n",
       "  <thead>\n",
       "    <tr style=\"text-align: right;\">\n",
       "      <th></th>\n",
       "      <th>vendor</th>\n",
       "      <th>mensagem</th>\n",
       "      <th>destino</th>\n",
       "      <th>spam</th>\n",
       "      <th>total</th>\n",
       "    </tr>\n",
       "  </thead>\n",
       "  <tbody>\n",
       "    <tr>\n",
       "      <th>0</th>\n",
       "      <td>superible</td>\n",
       "      <td>A OI esta com 1 oferta Especial para sua nova...</td>\n",
       "      <td>OI</td>\n",
       "      <td>False</td>\n",
       "      <td>1667</td>\n",
       "    </tr>\n",
       "    <tr>\n",
       "      <th>1</th>\n",
       "      <td>superible</td>\n",
       "      <td>A OI esta com uma oferta Especial para sua no...</td>\n",
       "      <td>OI</td>\n",
       "      <td>False</td>\n",
       "      <td>2130</td>\n",
       "    </tr>\n",
       "    <tr>\n",
       "      <th>2</th>\n",
       "      <td>mailserr</td>\n",
       "      <td>Parabens, seu CNPJ esta ativo! A Oi tem OFERT...</td>\n",
       "      <td>OI</td>\n",
       "      <td>False</td>\n",
       "      <td>909</td>\n",
       "    </tr>\n",
       "    <tr>\n",
       "      <th>3</th>\n",
       "      <td>zootude</td>\n",
       "      <td>1/2 Para voce receber as nossas ofertas adicio...</td>\n",
       "      <td>NaN</td>\n",
       "      <td>False</td>\n",
       "      <td>241</td>\n",
       "    </tr>\n",
       "    <tr>\n",
       "      <th>4</th>\n",
       "      <td>zootude</td>\n",
       "      <td>2/2  a CLARO! Ja deixei todo mundo avisado por...</td>\n",
       "      <td>CLARO</td>\n",
       "      <td>False</td>\n",
       "      <td>3863</td>\n",
       "    </tr>\n",
       "  </tbody>\n",
       "</table>\n",
       "</div>"
      ],
      "text/plain": [
       "      vendor                                           mensagem destino  \\\n",
       "0  superible   A OI esta com 1 oferta Especial para sua nova...      OI   \n",
       "1  superible   A OI esta com uma oferta Especial para sua no...      OI   \n",
       "2   mailserr   Parabens, seu CNPJ esta ativo! A Oi tem OFERT...      OI   \n",
       "3    zootude  1/2 Para voce receber as nossas ofertas adicio...     NaN   \n",
       "4    zootude  2/2  a CLARO! Ja deixei todo mundo avisado por...   CLARO   \n",
       "\n",
       "    spam  total  \n",
       "0  False   1667  \n",
       "1  False   2130  \n",
       "2  False    909  \n",
       "3  False    241  \n",
       "4  False   3863  "
      ]
     },
     "execution_count": 6,
     "metadata": {},
     "output_type": "execute_result"
    }
   ],
   "source": [
    "print(len(dataset))\n",
    "dataset.head(5)\n"
   ]
  },
  {
   "cell_type": "markdown",
   "metadata": {},
   "source": [
    "Na amostra acima, podemos ver que temos 5 features:\n",
    "* Vendor: Nome da empresa que enviou a mensagem\n",
    "* Mensagem: texto da mensagem\n",
    "* Destino: Operadora do destinatário da mensagem\n",
    "* Spam: se foi classificada como spam (true) ou não (false)\n",
    "* Total: Quantidade de cópias da mensagem enviadas"
   ]
  },
  {
   "cell_type": "markdown",
   "metadata": {},
   "source": [
    "## Abordagens\n",
    "\n",
    "Existem inúmeras formas de explorar o problema. Primeiro, devemos olhar bem as características dos nossos dados."
   ]
  },
  {
   "cell_type": "code",
   "execution_count": null,
   "metadata": {},
   "outputs": [],
   "source": []
  },
  {
   "cell_type": "markdown",
   "metadata": {},
   "source": [
    "Podemos primeiramente fazer uma regressão, observar os resultados e, se necessário, melhorar a solução. Para isso, precisamos separar o conjunto em treino, validação e teste."
   ]
  },
  {
   "cell_type": "code",
   "execution_count": 14,
   "metadata": {},
   "outputs": [],
   "source": [
    "label = dataset['spam']\n",
    "data = dataset.drop('spam', axis=1)\n",
    "\n",
    "#Separar em treino e teste aleatoriamente\n",
    "X_train, X_test, y_train, y_test =  train_test_split(data, label, test_size=0.15, random_state=5)\n",
    "\n",
    "#Separar em treino e validação\n",
    "X_train, X_valid, y_train, y_valid =  train_test_split(X_train, y_train, test_size=0.3, random_state=5)"
   ]
  },
  {
   "cell_type": "code",
   "execution_count": null,
   "metadata": {},
   "outputs": [],
   "source": []
  }
 ],
 "metadata": {
  "kernelspec": {
   "display_name": "Python 3",
   "language": "python",
   "name": "python3"
  },
  "language_info": {
   "codemirror_mode": {
    "name": "ipython",
    "version": 3
   },
   "file_extension": ".py",
   "mimetype": "text/x-python",
   "name": "python",
   "nbconvert_exporter": "python",
   "pygments_lexer": "ipython3",
   "version": "3.6.5"
  }
 },
 "nbformat": 4,
 "nbformat_minor": 2
}
